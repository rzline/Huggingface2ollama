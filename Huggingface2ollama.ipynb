{
  "cells": [
    {
      "cell_type": "markdown",
      "metadata": {
        "id": "view-in-github",
        "colab_type": "text"
      },
      "source": [
        "<a href=\"https://colab.research.google.com/github/rzline/Huggingface2ollama/blob/main/Huggingface2ollama.ipynb\" target=\"_parent\"><img src=\"https://colab.research.google.com/assets/colab-badge.svg\" alt=\"Open In Colab\"/></a>"
      ]
    },
    {
      "cell_type": "code",
      "source": [
        "#@markdown 此笔记仅需cpu运行时，不要浪费宝贵的GPU运行时在这上面哦\n",
        "!curl -fsSL https://ollama.com/install.sh | sh\n",
        "!echo \"ollama start\" > start.sh\n",
        "!chmod +x start.sh\n",
        "!nohup ./start.sh > output.txt &"
      ],
      "metadata": {
        "id": "wso365FnrOTN"
      },
      "execution_count": null,
      "outputs": []
    },
    {
      "cell_type": "code",
      "source": [
        "#@markdown 把看到的公钥填入ollama[点这进入](https://ollama.com/settings/keys)\n",
        "import linecache\n",
        "\n",
        "file_name = 'output.txt'\n",
        "line_number = 4\n",
        "\n",
        "line = linecache.getline(file_name, line_number)\n",
        "if line:\n",
        "    print(line.strip())"
      ],
      "metadata": {
        "colab": {
          "base_uri": "https://localhost:8080/"
        },
        "cellView": "form",
        "id": "Zp0J_hlNz6IA",
        "outputId": "42f37fb9-6d51-4237-f369-d9468c225b87"
      },
      "execution_count": 13,
      "outputs": [
        {
          "output_type": "stream",
          "name": "stdout",
          "text": [
            "ssh-ed25519 AAAAC3NzaC1lZDI1NTE5AAAAIODTEv98rAZrEJLPL8/oMCnbtP0iqKE1bcx6kblxxedf\n"
          ]
        }
      ]
    },
    {
      "cell_type": "code",
      "source": [
        "#@markdown 填模型链接和你的ollama用户名\n",
        "import os\n",
        "\n",
        "url = \"https://huggingface.co/ValueFX9507/Tifa-Deepsex-14b-CoT/resolve/main/Tifa-Deepsex-14b-CoT-Chat-F16.gguf\" #@param {type:\"string\"}\n",
        "username = \"rzline\" #@param {type:\"string\"}\n",
        "modelname = os.path.basename(url)\n",
        "\n",
        "!wget {url}\n",
        "!echo \"FROM /content/{modelname}\" > Modelfile\n",
        "!ollama create {username}/{modelname}\n",
        "!ollama push {username}/{modelname}"
      ],
      "metadata": {
        "colab": {
          "base_uri": "https://localhost:8080/"
        },
        "cellView": "form",
        "id": "tE2J8HuSzaXC",
        "outputId": "075a53dc-1f7f-4545-b6cc-363a889a252c"
      },
      "execution_count": null,
      "outputs": [
        {
          "output_type": "stream",
          "name": "stdout",
          "text": [
            "--2025-02-14 05:26:03--  https://huggingface.co/ValueFX9507/Tifa-Deepsex-14b-CoT/resolve/main/Tifa-Deepsex-14b-CoT-Chat-F16.gguf\n",
            "Resolving huggingface.co (huggingface.co)... 18.244.202.118, 18.244.202.60, 18.244.202.73, ...\n",
            "Connecting to huggingface.co (huggingface.co)|18.244.202.118|:443... connected.\n",
            "HTTP request sent, awaiting response... 302 Found\n",
            "Location: https://cdn-lfs-us-1.hf.co/repos/6e/27/6e2720ddc2ca12c8e13de0d0109843cacab96e11bc2630e0dc2942d9c3f361ab/2cb4e13e24da467e73edcddb7a192148099a03b4bdc557c8ecadf5b96cecaa02?response-content-disposition=inline%3B+filename*%3DUTF-8%27%27Tifa-Deepsex-14b-CoT-Chat-F16.gguf%3B+filename%3D%22Tifa-Deepsex-14b-CoT-Chat-F16.gguf%22%3B&Expires=1739514364&Policy=eyJTdGF0ZW1lbnQiOlt7IkNvbmRpdGlvbiI6eyJEYXRlTGVzc1RoYW4iOnsiQVdTOkVwb2NoVGltZSI6MTczOTUxNDM2NH19LCJSZXNvdXJjZSI6Imh0dHBzOi8vY2RuLWxmcy11cy0xLmhmLmNvL3JlcG9zLzZlLzI3LzZlMjcyMGRkYzJjYTEyYzhlMTNkZTBkMDEwOTg0M2NhY2FiOTZlMTFiYzI2MzBlMGRjMjk0MmQ5YzNmMzYxYWIvMmNiNGUxM2UyNGRhNDY3ZTczZWRjZGRiN2ExOTIxNDgwOTlhMDNiNGJkYzU1N2M4ZWNhZGY1Yjk2Y2VjYWEwMj9yZXNwb25zZS1jb250ZW50LWRpc3Bvc2l0aW9uPSoifV19&Signature=ZajU1VkCoN2OfsH6mcAVllLizi2hjZqzll5KA4de7DPrHrQ4w2buDZx9keDbf4WOSRd-T5SDhUcN4x9LytZ839Tb%7Eu5h4cPa6rN17zZ4umKMh2KdH-cbw8N4hU3QrpLNAicq2ZDIj5qafOD8A8ZCkRHit4aKIpPw2pBTB76iBFUTOX35jrPxED%7ENbnUxlrnMVxSZhLHfpTcjqn2YEwik7oPi5gEBGYzNnbrA25RUVG%7ERCVcMgm9SO81i3328s1B7PO20FMWrmr-fj%7EpqhCcEjfjOii7sKwejnU4y1Tb5cQ4PffXbdPJdZmmfd-LsLj1GFQ85JEPbJoZXJvYc66KydA__&Key-Pair-Id=K24J24Z295AEI9 [following]\n",
            "--2025-02-14 05:26:04--  https://cdn-lfs-us-1.hf.co/repos/6e/27/6e2720ddc2ca12c8e13de0d0109843cacab96e11bc2630e0dc2942d9c3f361ab/2cb4e13e24da467e73edcddb7a192148099a03b4bdc557c8ecadf5b96cecaa02?response-content-disposition=inline%3B+filename*%3DUTF-8%27%27Tifa-Deepsex-14b-CoT-Chat-F16.gguf%3B+filename%3D%22Tifa-Deepsex-14b-CoT-Chat-F16.gguf%22%3B&Expires=1739514364&Policy=eyJTdGF0ZW1lbnQiOlt7IkNvbmRpdGlvbiI6eyJEYXRlTGVzc1RoYW4iOnsiQVdTOkVwb2NoVGltZSI6MTczOTUxNDM2NH19LCJSZXNvdXJjZSI6Imh0dHBzOi8vY2RuLWxmcy11cy0xLmhmLmNvL3JlcG9zLzZlLzI3LzZlMjcyMGRkYzJjYTEyYzhlMTNkZTBkMDEwOTg0M2NhY2FiOTZlMTFiYzI2MzBlMGRjMjk0MmQ5YzNmMzYxYWIvMmNiNGUxM2UyNGRhNDY3ZTczZWRjZGRiN2ExOTIxNDgwOTlhMDNiNGJkYzU1N2M4ZWNhZGY1Yjk2Y2VjYWEwMj9yZXNwb25zZS1jb250ZW50LWRpc3Bvc2l0aW9uPSoifV19&Signature=ZajU1VkCoN2OfsH6mcAVllLizi2hjZqzll5KA4de7DPrHrQ4w2buDZx9keDbf4WOSRd-T5SDhUcN4x9LytZ839Tb%7Eu5h4cPa6rN17zZ4umKMh2KdH-cbw8N4hU3QrpLNAicq2ZDIj5qafOD8A8ZCkRHit4aKIpPw2pBTB76iBFUTOX35jrPxED%7ENbnUxlrnMVxSZhLHfpTcjqn2YEwik7oPi5gEBGYzNnbrA25RUVG%7ERCVcMgm9SO81i3328s1B7PO20FMWrmr-fj%7EpqhCcEjfjOii7sKwejnU4y1Tb5cQ4PffXbdPJdZmmfd-LsLj1GFQ85JEPbJoZXJvYc66KydA__&Key-Pair-Id=K24J24Z295AEI9\n",
            "Resolving cdn-lfs-us-1.hf.co (cdn-lfs-us-1.hf.co)... 18.165.116.85, 18.165.116.71, 18.165.116.10, ...\n",
            "Connecting to cdn-lfs-us-1.hf.co (cdn-lfs-us-1.hf.co)|18.165.116.85|:443... connected.\n",
            "HTTP request sent, awaiting response... 200 OK\n",
            "Length: 29547715648 (28G) [binary/octet-stream]\n",
            "Saving to: ‘Tifa-Deepsex-14b-CoT-Chat-F16.gguf.1’\n",
            "\n",
            "              Tifa-  38%[======>             ]  10.46G  39.8MB/s    eta 7m 17s "
          ]
        }
      ]
    }
  ],
  "metadata": {
    "colab": {
      "provenance": [],
      "authorship_tag": "ABX9TyPUwJvLCwxeMTZH82qfnofe",
      "include_colab_link": true
    },
    "kernelspec": {
      "display_name": "Python 3",
      "name": "python3"
    },
    "language_info": {
      "name": "python"
    }
  },
  "nbformat": 4,
  "nbformat_minor": 0
}
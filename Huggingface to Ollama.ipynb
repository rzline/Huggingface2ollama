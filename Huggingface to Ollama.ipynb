{
  "cells": [
    {
      "cell_type": "markdown",
      "metadata": {
        "id": "view-in-github",
        "colab_type": "text"
      },
      "source": [
        "<a href=\"https://colab.research.google.com/github/rzline/Huggingface2ollama/blob/main/Huggingface2ollama.ipynb\" target=\"_parent\"><img src=\"https://colab.research.google.com/assets/colab-badge.svg\" alt=\"Open In Colab\"/></a>"
      ]
    },
    {
      "cell_type": "code",
      "source": [
        "#@markdown 此笔记仅需cpu运行时，不要浪费宝贵的GPU运行时在这上面哦\n",
        "!curl -fsSL https://ollama.com/install.sh | sh\n",
        "!echo \"ollama start\" > start.sh\n",
        "!chmod +x start.sh\n",
        "!nohup ./start.sh > output.txt &"
      ],
      "metadata": {
        "id": "wso365FnrOTN"
      },
      "execution_count": null,
      "outputs": []
    },
    {
      "cell_type": "code",
      "source": [
        "#@markdown 把看到的公钥填入ollama[点这进入](https://ollama.com/settings/keys)\n",
        "import linecache\n",
        "\n",
        "file_name = 'output.txt'\n",
        "line_number = 4\n",
        "\n",
        "line = linecache.getline(file_name, line_number)\n",
        "if line:\n",
        "    print(line.strip())"
      ],
      "metadata": {
        "id": "Zp0J_hlNz6IA",
      },
      "execution_count": null,
      "outputs": []
    },
    {
      "cell_type": "code",
      "source": [
        "#@markdown 填模型链接和你的ollama用户名\n",
        "import os\n",
        "\n",
        "url = \"" #@param {type:\"string\"}\n",
        "username = \"" #@param {type:\"string\"}\n",
        "modelname = os.path.basename(url)\n",
        "\n",
        "!wget {url}\n",
        "!echo \"FROM /content/{modelname}\" > Modelfile\n",
        "!ollama create {username}/{modelname}\n",
        "!ollama push {username}/{modelname}"
      ],
      "metadata": {
        "id": "tE2J8HuSzaXC",
      },
      "execution_count": null,
      "outputs": []
    }
  ],
  "metadata": {
    "colab": {
      "provenance": [],
      "authorship_tag": "ABX9TyPUwJvLCwxeMTZH82qfnofe",
      "include_colab_link": true
    },
    "kernelspec": {
      "display_name": "Python 3",
      "name": "python3"
    },
    "language_info": {
      "name": "python"
    }
  },
  "nbformat": 4,
  "nbformat_minor": 0
}
